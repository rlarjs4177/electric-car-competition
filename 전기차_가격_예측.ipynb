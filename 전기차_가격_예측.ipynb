{
 "cells": [
  {
   "cell_type": "markdown",
   "id": "5de86d1f-cca2-452f-9d4b-14b076d05328",
   "metadata": {},
   "source": [
    "# 모델링"
   ]
  },
  {
   "cell_type": "code",
   "execution_count": 1,
   "id": "38f978af-7b55-4bc3-9544-e6f8dffe957e",
   "metadata": {},
   "outputs": [],
   "source": [
    "import pandas as pd\n",
    "\n",
    "# 데이터셋 로드\n",
    "train = pd.read_csv('전기차_가격_예측train.csv')\n",
    "test = pd.read_csv('전기차_가격_예측test.csv')\n",
    "\n",
    "# 데이터 전처리\n",
    "# 'train'과 'test' 데이터에서 'ID' 열을 제거하고, 'test'의 'ID'는 별도로 저장\n",
    "train = train.drop('ID', axis = 1)\n",
    "ID = test.pop('ID')\n",
    "\n",
    "# 의미 없는 변수 제거\n",
    "train = train.drop(['구동방식', '차량상태', '사고이력'], axis = 1)\n",
    "test = test.drop(['구동방식', '차량상태', '사고이력'], axis = 1)\n",
    "\n",
    "# 결측값 처리: 결측값을 '배터리용량' 열의 평균값으로 채움\n",
    "m = train['배터리용량'].mean()\n",
    "train = train.fillna(m)\n",
    "test = test.fillna(m)\n",
    "\n",
    "# 타겟 변수 저장\n",
    "target = train.pop('가격(백만원)')\n",
    "\n",
    "# 레이블 인코딩\n",
    "from sklearn.preprocessing import LabelEncoder\n",
    "cols = train.columns[train.dtypes == object]\n",
    "\n",
    "for col in cols:\n",
    "    le = LabelEncoder()\n",
    "    train[col] = le.fit_transform(train[col])\n",
    "    test[col] = le.transform(test[col])\n",
    "\n",
    "# 모델 학습\n",
    "# XGBoost\n",
    "import xgboost as xgb\n",
    "xg = xgb.XGBRegressor(max_depth = 7, n_estimators = 1870, learning_rate = 0.02, random_state = 0)\n",
    "xg.fit(train, target)\n",
    "\n",
    "# 제출\n",
    "pred = xg.predict(test)\n",
    "submit = pd.DataFrame({'ID':ID,\n",
    "                    '가격(백만원)':pred})\n",
    "submit.to_csv('전기차_가격_예측sample_submission.csv', index = False)"
   ]
  },
  {
   "cell_type": "code",
   "execution_count": null,
   "id": "7c7e0674-d087-47dd-a091-c1c266deb237",
   "metadata": {},
   "outputs": [],
   "source": []
  }
 ],
 "metadata": {
  "kernelspec": {
   "display_name": "Python 3 (ipykernel)",
   "language": "python",
   "name": "python3"
  },
  "language_info": {
   "codemirror_mode": {
    "name": "ipython",
    "version": 3
   },
   "file_extension": ".py",
   "mimetype": "text/x-python",
   "name": "python",
   "nbconvert_exporter": "python",
   "pygments_lexer": "ipython3",
   "version": "3.12.7"
  }
 },
 "nbformat": 4,
 "nbformat_minor": 5
}
